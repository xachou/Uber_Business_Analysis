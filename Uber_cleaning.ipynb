{
 "cells": [
  {
   "cell_type": "code",
   "execution_count": 2,
   "metadata": {},
   "outputs": [],
   "source": [
    "import pandas as pd\n",
    "from datetime import datetime\n",
    "import time as time"
   ]
  },
  {
   "cell_type": "code",
   "execution_count": 3,
   "metadata": {},
   "outputs": [
    {
     "data": {
      "text/plain": [
       "(693071, 57)"
      ]
     },
     "execution_count": 3,
     "metadata": {},
     "output_type": "execute_result"
    }
   ],
   "source": [
    "DATA_FILE = 'rideshare_kaggle.csv'\n",
    "uber_data = pd.read_csv(DATA_FILE)\n",
    "uber_data.shape"
   ]
  },
  {
   "cell_type": "code",
   "execution_count": 6,
   "metadata": {},
   "outputs": [
    {
     "name": "stdout",
     "output_type": "stream",
     "text": [
      "price\n"
     ]
    }
   ],
   "source": [
    "columns = uber_data.columns\n",
    "for c in columns:\n",
    "    if uber_data[uber_data[c].isnull()][c].shape[0] !=0:\n",
    "        print(c)"
   ]
  },
  {
   "cell_type": "code",
   "execution_count": null,
   "metadata": {},
   "outputs": [],
   "source": [
    "df = pd.read_csv"
   ]
  },
  {
   "cell_type": "code",
   "execution_count": 18,
   "metadata": {},
   "outputs": [
    {
     "data": {
      "text/plain": [
       "0.07949402009317949"
      ]
     },
     "execution_count": 18,
     "metadata": {},
     "output_type": "execute_result"
    }
   ],
   "source": [
    "(uber_data[uber_data['price'].isnull()].shape[0])/uber_data.shape[0]b"
   ]
  },
  {
   "cell_type": "raw",
   "metadata": {},
   "source": [
    "uber_data.name.value_counts()"
   ]
  },
  {
   "cell_type": "code",
   "execution_count": 64,
   "metadata": {},
   "outputs": [
    {
     "data": {
      "text/plain": [
       "id                             3ef5c509-f292-42ef-b39c-bce7059006a0\n",
       "timestamp                                       2018-11-27 14:18:22\n",
       "hour                                                             19\n",
       "day                                                              27\n",
       "month                                                            11\n",
       "datetime                                        2018-11-27 19:18:22\n",
       "timezone                                           America/New_York\n",
       "source                                                North Station\n",
       "destination                                        Haymarket Square\n",
       "cab_type                                                       Lyft\n",
       "name                                                      Lux Black\n",
       "price                                                          16.5\n",
       "distance                                                       0.72\n",
       "surge_multiplier                                                  1\n",
       "latitude                                                    42.3661\n",
       "longitude                                                  -71.0631\n",
       "temperature                                                   42.95\n",
       "apparentTemperature                                           37.54\n",
       "short_summary                                        Mostly Cloudy \n",
       "long_summary                            Light rain in the morning. \n",
       "precipIntensity                                                   0\n",
       "precipProbability                                                 0\n",
       "humidity                                                       0.72\n",
       "windSpeed                                                      9.42\n",
       "windGust                                                       13.8\n",
       "windGustTime                                             1543338000\n",
       "visibility                                                       10\n",
       "temperatureHigh                                               46.83\n",
       "temperatureHighTime                                      1543320000\n",
       "temperatureLow                                                33.75\n",
       "temperatureLowTime                                       1543399200\n",
       "apparentTemperatureHigh                                       43.85\n",
       "apparentTemperatureHighTime                              1543320000\n",
       "apparentTemperatureLow                                        29.97\n",
       "apparentTemperatureLowTime                               1543399200\n",
       "icon                                             partly-cloudy-day \n",
       "dewPoint                                                      34.56\n",
       "pressure                                                     990.25\n",
       "windBearing                                                     257\n",
       "cloudCover                                                     0.81\n",
       "uvIndex                                                           0\n",
       "visibility.1                                                     10\n",
       "ozone                                                         313.6\n",
       "sunriseTime                                              1543319471\n",
       "sunsetTime                                               1543353345\n",
       "moonPhase                                                      0.68\n",
       "precipIntensityMax                                           0.1433\n",
       "uvIndexTime                                              1543338000\n",
       "temperatureMin                                                36.13\n",
       "temperatureMinTime                                       1543377600\n",
       "temperatureMax                                                46.83\n",
       "temperatureMaxTime                                       1543320000\n",
       "apparentTemperatureMin                                        32.05\n",
       "apparentTemperatureMinTime                               1543377600\n",
       "apparentTemperatureMax                                        43.85\n",
       "apparentTemperatureMaxTime                               1543320000\n",
       "Name: 20, dtype: object"
      ]
     },
     "execution_count": 64,
     "metadata": {},
     "output_type": "execute_result"
    }
   ],
   "source": [
    "uber_data.loc[20]"
   ]
  },
  {
   "cell_type": "code",
   "execution_count": 20,
   "metadata": {},
   "outputs": [
    {
     "data": {
      "text/plain": [
       "Uber    385663\n",
       "Lyft    307408\n",
       "Name: cab_type, dtype: int64"
      ]
     },
     "execution_count": 20,
     "metadata": {},
     "output_type": "execute_result"
    }
   ],
   "source": [
    "uber_data.cab_type.value_counts()"
   ]
  },
  {
   "cell_type": "code",
   "execution_count": 21,
   "metadata": {},
   "outputs": [
    {
     "data": {
      "text/plain": [
       "6d318bcc-22a3-4af6-bddd-b409bfce1546    55096\n",
       "6f72dfc5-27f1-42e8-84db-ccc7a75f6969    55096\n",
       "9a0e7b09-b92b-4c41-9779-2ad22b4d779d    55096\n",
       "6c84fd89-3f11-4782-9b50-97c468b19529    55095\n",
       "8cf7e821-f0d3-49c6-8eba-e679c0ebcf6a    55095\n",
       "55c66225-fbe7-4fd5-9072-eab1ece5e23e    55094\n",
       "997acbb5-e102-41e1-b155-9df7de0a73f2    55091\n",
       "lyft_luxsuv                             51235\n",
       "lyft_premier                            51235\n",
       "lyft_lux                                51235\n",
       "lyft_plus                               51235\n",
       "lyft                                    51235\n",
       "lyft_line                               51233\n",
       "Name: product_id, dtype: int64"
      ]
     },
     "execution_count": 21,
     "metadata": {},
     "output_type": "execute_result"
    }
   ],
   "source": [
    "uber_data.product_id.value_counts()"
   ]
  },
  {
   "cell_type": "code",
   "execution_count": 25,
   "metadata": {},
   "outputs": [
    {
     "data": {
      "text/plain": [
       "'2012-09-13 02:22:50'"
      ]
     },
     "execution_count": 25,
     "metadata": {},
     "output_type": "execute_result"
    }
   ],
   "source": [
    "time.strftime('%Y-%m-%d %H:%M:%S', time.localtime(1347517370))"
   ]
  },
  {
   "cell_type": "code",
   "execution_count": 28,
   "metadata": {},
   "outputs": [],
   "source": [
    "uber_data.timestamp = uber_data['timestamp'].apply(lambda x:time.strftime('%Y-%m-%d %H:%M:%S', time.localtime(x)))"
   ]
  },
  {
   "cell_type": "code",
   "execution_count": 32,
   "metadata": {},
   "outputs": [
    {
     "data": {
      "text/html": [
       "<div>\n",
       "<style scoped>\n",
       "    .dataframe tbody tr th:only-of-type {\n",
       "        vertical-align: middle;\n",
       "    }\n",
       "\n",
       "    .dataframe tbody tr th {\n",
       "        vertical-align: top;\n",
       "    }\n",
       "\n",
       "    .dataframe thead th {\n",
       "        text-align: right;\n",
       "    }\n",
       "</style>\n",
       "<table border=\"1\" class=\"dataframe\">\n",
       "  <thead>\n",
       "    <tr style=\"text-align: right;\">\n",
       "      <th></th>\n",
       "      <th>id</th>\n",
       "      <th>timestamp</th>\n",
       "      <th>datetime</th>\n",
       "    </tr>\n",
       "  </thead>\n",
       "  <tbody>\n",
       "    <tr>\n",
       "      <th>0</th>\n",
       "      <td>424553bb-7174-41ea-aeb4-fe06d4f4b9d7</td>\n",
       "      <td>2018-12-16 04:30:07</td>\n",
       "      <td>2018-12-16 09:30:07</td>\n",
       "    </tr>\n",
       "    <tr>\n",
       "      <th>1</th>\n",
       "      <td>4bd23055-6827-41c6-b23b-3c491f24e74d</td>\n",
       "      <td>2018-11-26 21:00:23</td>\n",
       "      <td>2018-11-27 02:00:23</td>\n",
       "    </tr>\n",
       "    <tr>\n",
       "      <th>2</th>\n",
       "      <td>981a3613-77af-4620-a42a-0c0866077d1e</td>\n",
       "      <td>2018-11-27 20:00:22</td>\n",
       "      <td>2018-11-28 01:00:22</td>\n",
       "    </tr>\n",
       "    <tr>\n",
       "      <th>3</th>\n",
       "      <td>c2d88af2-d278-4bfd-a8d0-29ca77cc5512</td>\n",
       "      <td>2018-11-29 23:53:02</td>\n",
       "      <td>2018-11-30 04:53:02</td>\n",
       "    </tr>\n",
       "    <tr>\n",
       "      <th>4</th>\n",
       "      <td>e0126e1f-8ca9-4f2e-82b3-50505a09db9a</td>\n",
       "      <td>2018-11-28 22:49:20</td>\n",
       "      <td>2018-11-29 03:49:20</td>\n",
       "    </tr>\n",
       "  </tbody>\n",
       "</table>\n",
       "</div>"
      ],
      "text/plain": [
       "                                     id            timestamp  \\\n",
       "0  424553bb-7174-41ea-aeb4-fe06d4f4b9d7  2018-12-16 04:30:07   \n",
       "1  4bd23055-6827-41c6-b23b-3c491f24e74d  2018-11-26 21:00:23   \n",
       "2  981a3613-77af-4620-a42a-0c0866077d1e  2018-11-27 20:00:22   \n",
       "3  c2d88af2-d278-4bfd-a8d0-29ca77cc5512  2018-11-29 23:53:02   \n",
       "4  e0126e1f-8ca9-4f2e-82b3-50505a09db9a  2018-11-28 22:49:20   \n",
       "\n",
       "              datetime  \n",
       "0  2018-12-16 09:30:07  \n",
       "1  2018-11-27 02:00:23  \n",
       "2  2018-11-28 01:00:22  \n",
       "3  2018-11-30 04:53:02  \n",
       "4  2018-11-29 03:49:20  "
      ]
     },
     "execution_count": 32,
     "metadata": {},
     "output_type": "execute_result"
    }
   ],
   "source": [
    "uber_data[['id','timestamp','datetime']].head()"
   ]
  },
  {
   "cell_type": "code",
   "execution_count": 6,
   "metadata": {},
   "outputs": [
    {
     "data": {
      "text/plain": [
       "Financial District         58851\n",
       "Theatre District           57798\n",
       "Back Bay                   57780\n",
       "Boston University          57764\n",
       "Haymarket Square           57764\n",
       "Fenway                     57757\n",
       "North End                  57756\n",
       "Northeastern University    57755\n",
       "South Station              57749\n",
       "West End                   57575\n",
       "Beacon Hill                57403\n",
       "North Station              57119\n",
       "Name: destination, dtype: int64"
      ]
     },
     "execution_count": 6,
     "metadata": {},
     "output_type": "execute_result"
    }
   ],
   "source": [
    "uber_data.destination.value_counts()"
   ]
  },
  {
   "cell_type": "code",
   "execution_count": 42,
   "metadata": {},
   "outputs": [],
   "source": [
    "uber_data.drop('product_id',axis=1,inplace=True)"
   ]
  },
  {
   "cell_type": "code",
   "execution_count": 54,
   "metadata": {},
   "outputs": [
    {
     "data": {
      "text/plain": [
       "Black SUV       55096\n",
       "WAV             55096\n",
       "UberXL          55096\n",
       "Black           55095\n",
       "Taxi            55095\n",
       "UberX           55094\n",
       "UberPool        55091\n",
       "Lux Black       51235\n",
       "Lyft XL         51235\n",
       "Lyft            51235\n",
       "Lux             51235\n",
       "Lux Black XL    51235\n",
       "Shared          51233\n",
       "Name: name, dtype: int64"
      ]
     },
     "execution_count": 54,
     "metadata": {},
     "output_type": "execute_result"
    }
   ],
   "source": [
    "uber_data['name'].value_counts()"
   ]
  },
  {
   "cell_type": "code",
   "execution_count": 60,
   "metadata": {},
   "outputs": [],
   "source": [
    "uber_data = uber_data[~ uber_data.price.isnull()]"
   ]
  },
  {
   "cell_type": "code",
   "execution_count": 67,
   "metadata": {},
   "outputs": [],
   "source": [
    "uber_data.to_csv('NYC_Uber_Lyft_Weather.csv')"
   ]
  },
  {
   "cell_type": "code",
   "execution_count": 4,
   "metadata": {},
   "outputs": [],
   "source": [
    "df = pd.read_csv('NYC_Uber_Lyft_Weather.csv')"
   ]
  },
  {
   "cell_type": "code",
   "execution_count": 5,
   "metadata": {},
   "outputs": [
    {
     "data": {
      "text/plain": [
       "(637976, 57)"
      ]
     },
     "execution_count": 5,
     "metadata": {},
     "output_type": "execute_result"
    }
   ],
   "source": [
    "df.shape"
   ]
  },
  {
   "cell_type": "code",
   "execution_count": 6,
   "metadata": {},
   "outputs": [],
   "source": [
    "df = pd.read_csv('uber-pickups-in-new-york-city/other-American_B01362.csv')"
   ]
  },
  {
   "cell_type": "markdown",
   "metadata": {},
   "source": [
    "# Uber Aggreagation"
   ]
  },
  {
   "cell_type": "code",
   "execution_count": 7,
   "metadata": {},
   "outputs": [],
   "source": [
    "from os import listdir\n",
    "from os.path import isfile, join\n",
    "onlyfiles = [f for f in listdir('uber-pickups-in-new-york-city/') if isfile(join('uber-pickups-in-new-york-city/', f))]"
   ]
  },
  {
   "cell_type": "code",
   "execution_count": 8,
   "metadata": {},
   "outputs": [],
   "source": [
    "uber_data = [i for i in onlyfiles if (i.split('-')[0] == 'uber') & (i.split('-')[-1] != '15.csv')]"
   ]
  },
  {
   "cell_type": "code",
   "execution_count": 9,
   "metadata": {},
   "outputs": [
    {
     "data": {
      "text/plain": [
       "['uber-raw-data-apr14.csv',\n",
       " 'uber-raw-data-aug14.csv',\n",
       " 'uber-raw-data-sep14.csv',\n",
       " 'uber-raw-data-jul14.csv',\n",
       " 'uber-raw-data-jun14.csv',\n",
       " 'uber-raw-data-may14.csv']"
      ]
     },
     "execution_count": 9,
     "metadata": {},
     "output_type": "execute_result"
    }
   ],
   "source": [
    "uber_data"
   ]
  },
  {
   "cell_type": "code",
   "execution_count": 16,
   "metadata": {},
   "outputs": [],
   "source": [
    "uber_foil = pd.read_csv('uber-pickups-in-new-york-city/Uber-Jan-Feb-FOIL.csv')"
   ]
  },
  {
   "cell_type": "code",
   "execution_count": 3,
   "metadata": {},
   "outputs": [
    {
     "data": {
      "text/html": [
       "<div>\n",
       "<style scoped>\n",
       "    .dataframe tbody tr th:only-of-type {\n",
       "        vertical-align: middle;\n",
       "    }\n",
       "\n",
       "    .dataframe tbody tr th {\n",
       "        vertical-align: top;\n",
       "    }\n",
       "\n",
       "    .dataframe thead th {\n",
       "        text-align: right;\n",
       "    }\n",
       "</style>\n",
       "<table border=\"1\" class=\"dataframe\">\n",
       "  <thead>\n",
       "    <tr style=\"text-align: right;\">\n",
       "      <th></th>\n",
       "      <th>Date/Time</th>\n",
       "      <th>Lat</th>\n",
       "      <th>Lon</th>\n",
       "      <th>Base</th>\n",
       "    </tr>\n",
       "  </thead>\n",
       "  <tbody>\n",
       "    <tr>\n",
       "      <th>0</th>\n",
       "      <td>4/1/2014 0:11:00</td>\n",
       "      <td>40.7690</td>\n",
       "      <td>-73.9549</td>\n",
       "      <td>B02512</td>\n",
       "    </tr>\n",
       "    <tr>\n",
       "      <th>1</th>\n",
       "      <td>4/1/2014 0:17:00</td>\n",
       "      <td>40.7267</td>\n",
       "      <td>-74.0345</td>\n",
       "      <td>B02512</td>\n",
       "    </tr>\n",
       "    <tr>\n",
       "      <th>2</th>\n",
       "      <td>4/1/2014 0:21:00</td>\n",
       "      <td>40.7316</td>\n",
       "      <td>-73.9873</td>\n",
       "      <td>B02512</td>\n",
       "    </tr>\n",
       "    <tr>\n",
       "      <th>3</th>\n",
       "      <td>4/1/2014 0:28:00</td>\n",
       "      <td>40.7588</td>\n",
       "      <td>-73.9776</td>\n",
       "      <td>B02512</td>\n",
       "    </tr>\n",
       "    <tr>\n",
       "      <th>4</th>\n",
       "      <td>4/1/2014 0:33:00</td>\n",
       "      <td>40.7594</td>\n",
       "      <td>-73.9722</td>\n",
       "      <td>B02512</td>\n",
       "    </tr>\n",
       "  </tbody>\n",
       "</table>\n",
       "</div>"
      ],
      "text/plain": [
       "          Date/Time      Lat      Lon    Base\n",
       "0  4/1/2014 0:11:00  40.7690 -73.9549  B02512\n",
       "1  4/1/2014 0:17:00  40.7267 -74.0345  B02512\n",
       "2  4/1/2014 0:21:00  40.7316 -73.9873  B02512\n",
       "3  4/1/2014 0:28:00  40.7588 -73.9776  B02512\n",
       "4  4/1/2014 0:33:00  40.7594 -73.9722  B02512"
      ]
     },
     "execution_count": 3,
     "metadata": {},
     "output_type": "execute_result"
    }
   ],
   "source": [
    "apr = pd.read_csv('uber-pickups-in-new-york-city/uber-raw-data-apr14.csv')\n",
    "apr.head()"
   ]
  },
  {
   "cell_type": "code",
   "execution_count": 4,
   "metadata": {},
   "outputs": [
    {
     "data": {
      "text/html": [
       "<div>\n",
       "<style scoped>\n",
       "    .dataframe tbody tr th:only-of-type {\n",
       "        vertical-align: middle;\n",
       "    }\n",
       "\n",
       "    .dataframe tbody tr th {\n",
       "        vertical-align: top;\n",
       "    }\n",
       "\n",
       "    .dataframe thead th {\n",
       "        text-align: right;\n",
       "    }\n",
       "</style>\n",
       "<table border=\"1\" class=\"dataframe\">\n",
       "  <thead>\n",
       "    <tr style=\"text-align: right;\">\n",
       "      <th></th>\n",
       "      <th>Date/Time</th>\n",
       "      <th>Lat</th>\n",
       "      <th>Lon</th>\n",
       "      <th>Base</th>\n",
       "    </tr>\n",
       "  </thead>\n",
       "  <tbody>\n",
       "    <tr>\n",
       "      <th>0</th>\n",
       "      <td>5/1/2014 0:02:00</td>\n",
       "      <td>40.7521</td>\n",
       "      <td>-73.9914</td>\n",
       "      <td>B02512</td>\n",
       "    </tr>\n",
       "    <tr>\n",
       "      <th>1</th>\n",
       "      <td>5/1/2014 0:06:00</td>\n",
       "      <td>40.6965</td>\n",
       "      <td>-73.9715</td>\n",
       "      <td>B02512</td>\n",
       "    </tr>\n",
       "    <tr>\n",
       "      <th>2</th>\n",
       "      <td>5/1/2014 0:15:00</td>\n",
       "      <td>40.7464</td>\n",
       "      <td>-73.9838</td>\n",
       "      <td>B02512</td>\n",
       "    </tr>\n",
       "    <tr>\n",
       "      <th>3</th>\n",
       "      <td>5/1/2014 0:17:00</td>\n",
       "      <td>40.7463</td>\n",
       "      <td>-74.0011</td>\n",
       "      <td>B02512</td>\n",
       "    </tr>\n",
       "    <tr>\n",
       "      <th>4</th>\n",
       "      <td>5/1/2014 0:17:00</td>\n",
       "      <td>40.7594</td>\n",
       "      <td>-73.9734</td>\n",
       "      <td>B02512</td>\n",
       "    </tr>\n",
       "  </tbody>\n",
       "</table>\n",
       "</div>"
      ],
      "text/plain": [
       "          Date/Time      Lat      Lon    Base\n",
       "0  5/1/2014 0:02:00  40.7521 -73.9914  B02512\n",
       "1  5/1/2014 0:06:00  40.6965 -73.9715  B02512\n",
       "2  5/1/2014 0:15:00  40.7464 -73.9838  B02512\n",
       "3  5/1/2014 0:17:00  40.7463 -74.0011  B02512\n",
       "4  5/1/2014 0:17:00  40.7594 -73.9734  B02512"
      ]
     },
     "execution_count": 4,
     "metadata": {},
     "output_type": "execute_result"
    }
   ],
   "source": [
    "may = pd.read_csv('uber-pickups-in-new-york-city/uber-raw-data-may14.csv')\n",
    "may.head()"
   ]
  },
  {
   "cell_type": "code",
   "execution_count": 5,
   "metadata": {},
   "outputs": [],
   "source": [
    "df = apr"
   ]
  },
  {
   "cell_type": "code",
   "execution_count": 10,
   "metadata": {},
   "outputs": [
    {
     "name": "stdout",
     "output_type": "stream",
     "text": [
      "uber-pickups-in-new-york-city/uber-raw-data-apr14.csv\n",
      "          Date/Time      Lat      Lon    Base\n",
      "0  4/1/2014 0:11:00  40.7690 -73.9549  B02512\n",
      "1  4/1/2014 0:17:00  40.7267 -74.0345  B02512\n",
      "uber-pickups-in-new-york-city/uber-raw-data-aug14.csv\n",
      "          Date/Time      Lat      Lon    Base\n",
      "0  8/1/2014 0:03:00  40.7366 -73.9906  B02512\n",
      "1  8/1/2014 0:09:00  40.7260 -73.9918  B02512\n",
      "uber-pickups-in-new-york-city/uber-raw-data-sep14.csv\n",
      "          Date/Time      Lat      Lon    Base\n",
      "0  9/1/2014 0:01:00  40.2201 -74.0021  B02512\n",
      "1  9/1/2014 0:01:00  40.7500 -74.0027  B02512\n",
      "uber-pickups-in-new-york-city/uber-raw-data-jul14.csv\n",
      "          Date/Time      Lat      Lon    Base\n",
      "0  7/1/2014 0:03:00  40.7586 -73.9706  B02512\n",
      "1  7/1/2014 0:05:00  40.7605 -73.9994  B02512\n",
      "uber-pickups-in-new-york-city/uber-raw-data-jun14.csv\n",
      "          Date/Time      Lat      Lon    Base\n",
      "0  6/1/2014 0:00:00  40.7293 -73.9920  B02512\n",
      "1  6/1/2014 0:01:00  40.7131 -74.0097  B02512\n",
      "uber-pickups-in-new-york-city/uber-raw-data-may14.csv\n",
      "          Date/Time      Lat      Lon    Base\n",
      "0  5/1/2014 0:02:00  40.7521 -73.9914  B02512\n",
      "1  5/1/2014 0:06:00  40.6965 -73.9715  B02512\n"
     ]
    }
   ],
   "source": [
    "for i in uber_data:\n",
    "    location = 'uber-pickups-in-new-york-city/{}'.format(i)\n",
    "    print(location)\n",
    "    t = pd.read_csv(location)\n",
    "    print(t.head(2))\n",
    "    df = df.append(t, ignore_index=True)"
   ]
  },
  {
   "cell_type": "code",
   "execution_count": 52,
   "metadata": {},
   "outputs": [
    {
     "name": "stdout",
     "output_type": "stream",
     "text": [
      "<class 'pandas.core.frame.DataFrame'>\n",
      "RangeIndex: 5098843 entries, 0 to 5098842\n",
      "Data columns (total 4 columns):\n",
      "Date/Time    object\n",
      "Lat          float64\n",
      "Lon          float64\n",
      "Base         object\n",
      "dtypes: float64(2), object(2)\n",
      "memory usage: 155.6+ MB\n"
     ]
    }
   ],
   "source": [
    "df.info()"
   ]
  },
  {
   "cell_type": "code",
   "execution_count": 53,
   "metadata": {},
   "outputs": [
    {
     "data": {
      "text/html": [
       "<div>\n",
       "<style scoped>\n",
       "    .dataframe tbody tr th:only-of-type {\n",
       "        vertical-align: middle;\n",
       "    }\n",
       "\n",
       "    .dataframe tbody tr th {\n",
       "        vertical-align: top;\n",
       "    }\n",
       "\n",
       "    .dataframe thead th {\n",
       "        text-align: right;\n",
       "    }\n",
       "</style>\n",
       "<table border=\"1\" class=\"dataframe\">\n",
       "  <thead>\n",
       "    <tr style=\"text-align: right;\">\n",
       "      <th></th>\n",
       "      <th>Date/Time</th>\n",
       "      <th>Lat</th>\n",
       "      <th>Lon</th>\n",
       "      <th>Base</th>\n",
       "    </tr>\n",
       "  </thead>\n",
       "  <tbody>\n",
       "    <tr>\n",
       "      <th>1100395</th>\n",
       "      <td>4/29/2014 14:18:00</td>\n",
       "      <td>40.7414</td>\n",
       "      <td>-73.9939</td>\n",
       "      <td>B02682</td>\n",
       "    </tr>\n",
       "    <tr>\n",
       "      <th>4787142</th>\n",
       "      <td>5/12/2014 23:51:00</td>\n",
       "      <td>40.7371</td>\n",
       "      <td>-73.9927</td>\n",
       "      <td>B02617</td>\n",
       "    </tr>\n",
       "    <tr>\n",
       "      <th>2337024</th>\n",
       "      <td>9/9/2014 5:11:00</td>\n",
       "      <td>40.7420</td>\n",
       "      <td>-73.9806</td>\n",
       "      <td>B02617</td>\n",
       "    </tr>\n",
       "    <tr>\n",
       "      <th>3404583</th>\n",
       "      <td>7/17/2014 8:41:00</td>\n",
       "      <td>40.7448</td>\n",
       "      <td>-73.9830</td>\n",
       "      <td>B02617</td>\n",
       "    </tr>\n",
       "    <tr>\n",
       "      <th>4470605</th>\n",
       "      <td>5/20/2014 14:41:00</td>\n",
       "      <td>40.7340</td>\n",
       "      <td>-73.9910</td>\n",
       "      <td>B02512</td>\n",
       "    </tr>\n",
       "    <tr>\n",
       "      <th>2648808</th>\n",
       "      <td>9/6/2014 19:20:00</td>\n",
       "      <td>40.7581</td>\n",
       "      <td>-73.9626</td>\n",
       "      <td>B02682</td>\n",
       "    </tr>\n",
       "    <tr>\n",
       "      <th>578906</th>\n",
       "      <td>4/12/2014 15:44:00</td>\n",
       "      <td>40.7482</td>\n",
       "      <td>-73.9894</td>\n",
       "      <td>B02512</td>\n",
       "    </tr>\n",
       "    <tr>\n",
       "      <th>3958234</th>\n",
       "      <td>6/18/2014 9:24:00</td>\n",
       "      <td>40.7677</td>\n",
       "      <td>-73.8614</td>\n",
       "      <td>B02598</td>\n",
       "    </tr>\n",
       "    <tr>\n",
       "      <th>3750006</th>\n",
       "      <td>7/28/2014 14:37:00</td>\n",
       "      <td>40.7166</td>\n",
       "      <td>-74.0011</td>\n",
       "      <td>B02682</td>\n",
       "    </tr>\n",
       "    <tr>\n",
       "      <th>4544134</th>\n",
       "      <td>5/8/2014 15:20:00</td>\n",
       "      <td>40.7535</td>\n",
       "      <td>-73.9749</td>\n",
       "      <td>B02598</td>\n",
       "    </tr>\n",
       "  </tbody>\n",
       "</table>\n",
       "</div>"
      ],
      "text/plain": [
       "                  Date/Time      Lat      Lon    Base\n",
       "1100395  4/29/2014 14:18:00  40.7414 -73.9939  B02682\n",
       "4787142  5/12/2014 23:51:00  40.7371 -73.9927  B02617\n",
       "2337024    9/9/2014 5:11:00  40.7420 -73.9806  B02617\n",
       "3404583   7/17/2014 8:41:00  40.7448 -73.9830  B02617\n",
       "4470605  5/20/2014 14:41:00  40.7340 -73.9910  B02512\n",
       "2648808   9/6/2014 19:20:00  40.7581 -73.9626  B02682\n",
       "578906   4/12/2014 15:44:00  40.7482 -73.9894  B02512\n",
       "3958234   6/18/2014 9:24:00  40.7677 -73.8614  B02598\n",
       "3750006  7/28/2014 14:37:00  40.7166 -74.0011  B02682\n",
       "4544134   5/8/2014 15:20:00  40.7535 -73.9749  B02598"
      ]
     },
     "execution_count": 53,
     "metadata": {},
     "output_type": "execute_result"
    }
   ],
   "source": [
    "df.sample(10)"
   ]
  },
  {
   "cell_type": "code",
   "execution_count": 11,
   "metadata": {},
   "outputs": [],
   "source": [
    "df.rename(columns={'Date/Time':'Date'},inplace=True)"
   ]
  },
  {
   "cell_type": "code",
   "execution_count": 12,
   "metadata": {},
   "outputs": [],
   "source": [
    "df.to_csv('NYC_Uber_Pickup_AprToSep_14.csv')"
   ]
  },
  {
   "cell_type": "code",
   "execution_count": null,
   "metadata": {},
   "outputs": [],
   "source": [
    "cab_rides = pd.read_csv('uber-lyft-cab-prices/cab_rides.csv')"
   ]
  },
  {
   "cell_type": "code",
   "execution_count": null,
   "metadata": {},
   "outputs": [],
   "source": [
    "cab_rides.head()"
   ]
  },
  {
   "cell_type": "code",
   "execution_count": 59,
   "metadata": {},
   "outputs": [
    {
     "data": {
      "text/plain": [
       "count    693071.000000\n",
       "mean          1.013870\n",
       "std           0.091641\n",
       "min           1.000000\n",
       "25%           1.000000\n",
       "50%           1.000000\n",
       "75%           1.000000\n",
       "max           3.000000\n",
       "Name: surge_multiplier, dtype: float64"
      ]
     },
     "execution_count": 59,
     "metadata": {},
     "output_type": "execute_result"
    }
   ],
   "source": [
    "cab_rides.surge_multiplier.describe()"
   ]
  },
  {
   "cell_type": "code",
   "execution_count": 60,
   "metadata": {},
   "outputs": [
    {
     "data": {
      "text/plain": [
       "1.00    672096\n",
       "1.25     11085\n",
       "1.50      5065\n",
       "1.75      2420\n",
       "2.00      2239\n",
       "2.50       154\n",
       "3.00        12\n",
       "Name: surge_multiplier, dtype: int64"
      ]
     },
     "execution_count": 60,
     "metadata": {},
     "output_type": "execute_result"
    }
   ],
   "source": [
    "cab_rides.surge_multiplier.value_counts()"
   ]
  },
  {
   "cell_type": "code",
   "execution_count": 13,
   "metadata": {},
   "outputs": [
    {
     "data": {
      "text/html": [
       "<div>\n",
       "<style scoped>\n",
       "    .dataframe tbody tr th:only-of-type {\n",
       "        vertical-align: middle;\n",
       "    }\n",
       "\n",
       "    .dataframe tbody tr th {\n",
       "        vertical-align: top;\n",
       "    }\n",
       "\n",
       "    .dataframe thead th {\n",
       "        text-align: right;\n",
       "    }\n",
       "</style>\n",
       "<table border=\"1\" class=\"dataframe\">\n",
       "  <thead>\n",
       "    <tr style=\"text-align: right;\">\n",
       "      <th></th>\n",
       "      <th>Date</th>\n",
       "      <th>Lat</th>\n",
       "      <th>Lon</th>\n",
       "      <th>Base</th>\n",
       "    </tr>\n",
       "  </thead>\n",
       "  <tbody>\n",
       "    <tr>\n",
       "      <th>2697681</th>\n",
       "      <td>9/13/2014 19:07:00</td>\n",
       "      <td>40.7543</td>\n",
       "      <td>-73.9916</td>\n",
       "      <td>B02682</td>\n",
       "    </tr>\n",
       "    <tr>\n",
       "      <th>4321557</th>\n",
       "      <td>6/12/2014 17:19:00</td>\n",
       "      <td>40.7285</td>\n",
       "      <td>-73.9800</td>\n",
       "      <td>B02682</td>\n",
       "    </tr>\n",
       "    <tr>\n",
       "      <th>3751774</th>\n",
       "      <td>7/28/2014 19:49:00</td>\n",
       "      <td>40.7585</td>\n",
       "      <td>-73.9777</td>\n",
       "      <td>B02682</td>\n",
       "    </tr>\n",
       "    <tr>\n",
       "      <th>4706909</th>\n",
       "      <td>5/28/2014 0:49:00</td>\n",
       "      <td>40.7592</td>\n",
       "      <td>-73.9845</td>\n",
       "      <td>B02598</td>\n",
       "    </tr>\n",
       "    <tr>\n",
       "      <th>2939705</th>\n",
       "      <td>9/25/2014 6:42:00</td>\n",
       "      <td>40.7284</td>\n",
       "      <td>-74.0037</td>\n",
       "      <td>B02764</td>\n",
       "    </tr>\n",
       "    <tr>\n",
       "      <th>2078298</th>\n",
       "      <td>9/11/2014 17:04:00</td>\n",
       "      <td>40.7389</td>\n",
       "      <td>-73.9929</td>\n",
       "      <td>B02598</td>\n",
       "    </tr>\n",
       "    <tr>\n",
       "      <th>3303455</th>\n",
       "      <td>7/7/2014 6:45:00</td>\n",
       "      <td>40.6450</td>\n",
       "      <td>-73.7819</td>\n",
       "      <td>B02617</td>\n",
       "    </tr>\n",
       "    <tr>\n",
       "      <th>4534404</th>\n",
       "      <td>5/7/2014 15:58:00</td>\n",
       "      <td>40.7508</td>\n",
       "      <td>-73.9745</td>\n",
       "      <td>B02598</td>\n",
       "    </tr>\n",
       "    <tr>\n",
       "      <th>2229763</th>\n",
       "      <td>9/30/2014 16:07:00</td>\n",
       "      <td>40.7734</td>\n",
       "      <td>-73.9632</td>\n",
       "      <td>B02598</td>\n",
       "    </tr>\n",
       "    <tr>\n",
       "      <th>3585225</th>\n",
       "      <td>7/2/2014 12:36:00</td>\n",
       "      <td>40.7260</td>\n",
       "      <td>-73.9984</td>\n",
       "      <td>B02682</td>\n",
       "    </tr>\n",
       "  </tbody>\n",
       "</table>\n",
       "</div>"
      ],
      "text/plain": [
       "                       Date      Lat      Lon    Base\n",
       "2697681  9/13/2014 19:07:00  40.7543 -73.9916  B02682\n",
       "4321557  6/12/2014 17:19:00  40.7285 -73.9800  B02682\n",
       "3751774  7/28/2014 19:49:00  40.7585 -73.9777  B02682\n",
       "4706909   5/28/2014 0:49:00  40.7592 -73.9845  B02598\n",
       "2939705   9/25/2014 6:42:00  40.7284 -74.0037  B02764\n",
       "2078298  9/11/2014 17:04:00  40.7389 -73.9929  B02598\n",
       "3303455    7/7/2014 6:45:00  40.6450 -73.7819  B02617\n",
       "4534404   5/7/2014 15:58:00  40.7508 -73.9745  B02598\n",
       "2229763  9/30/2014 16:07:00  40.7734 -73.9632  B02598\n",
       "3585225   7/2/2014 12:36:00  40.7260 -73.9984  B02682"
      ]
     },
     "execution_count": 13,
     "metadata": {},
     "output_type": "execute_result"
    }
   ],
   "source": [
    "df.sample(10)"
   ]
  },
  {
   "cell_type": "code",
   "execution_count": null,
   "metadata": {},
   "outputs": [],
   "source": []
  }
 ],
 "metadata": {
  "kernelspec": {
   "display_name": "Python 3",
   "language": "python",
   "name": "python3"
  },
  "language_info": {
   "codemirror_mode": {
    "name": "ipython",
    "version": 3
   },
   "file_extension": ".py",
   "mimetype": "text/x-python",
   "name": "python",
   "nbconvert_exporter": "python",
   "pygments_lexer": "ipython3",
   "version": "3.7.3"
  }
 },
 "nbformat": 4,
 "nbformat_minor": 2
}
